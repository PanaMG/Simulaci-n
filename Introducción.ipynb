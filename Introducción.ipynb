{
 "cells": [
  {
   "cell_type": "markdown",
   "id": "99c50152",
   "metadata": {},
   "source": [
    "# **Alejandro Mirones, Ing. en Nanotecnología**.\n",
    "\n",
    "### _Soy estudiante en la universidad de ITESO, llevo viviendo 13 años aquí en méxico (soy de panamá), actualmente estoy cursando el décimo semestre de la carrera_. \n",
    "\n",
    "### _Entre las cosas que me gustan hacer  se encuentra el escuchar música en exceso, jugar videojuegos, ciclismo y aprender nuevas cosas_.\n",
    "\n",
    "### Uno de los temas que estamos trabajando en este semestre de mi carrera es la espectroscopía vibracional.\n",
    "\n",
    "### La espectroscopía es el estudio de una estructura atómica o molecular debido a su comportamienton al interactuar con la radiación electromagnética, este estudio nos permite conocer de qué está hecho un material mediante un análisis cuantitativo y cualitativo, y puede ser utilizado en muchos casos tales como: análisis forénse, endoscopía, biotecnología.\n",
    "\n",
    "## Puntos claves de la espectroscopía vibracional:\n",
    "<ul>\n",
    "<li>Detecta las vibraciones moleculares\n",
    "generada por la absorción de infrarrojos\n",
    "dispersión ligera o inelástica**.</li>\n",
    "\n",
    "<li> Se puede utilizar para caracterizar gases, líquidos\n",
    "o sólidos, ya sean orgánicos o inorgánicos.</li>\n",
    "\n",
    "<li> No se puede utilizar para analizar metales\n",
    "materiales debido a su alta reflectividad y\n",
    "falta de polarización.</li>\n",
    "</ul>\n",
    "        \n"
   ]
  },
  {
   "cell_type": "code",
   "execution_count": null,
   "id": "5f408974",
   "metadata": {},
   "outputs": [],
   "source": []
  },
  {
   "cell_type": "code",
   "execution_count": null,
   "id": "67af74c4",
   "metadata": {},
   "outputs": [],
   "source": []
  }
 ],
 "metadata": {
  "kernelspec": {
   "display_name": "Python 3 (ipykernel)",
   "language": "python",
   "name": "python3"
  },
  "language_info": {
   "codemirror_mode": {
    "name": "ipython",
    "version": 3
   },
   "file_extension": ".py",
   "mimetype": "text/x-python",
   "name": "python",
   "nbconvert_exporter": "python",
   "pygments_lexer": "ipython3",
   "version": "3.9.7"
  }
 },
 "nbformat": 4,
 "nbformat_minor": 5
}
